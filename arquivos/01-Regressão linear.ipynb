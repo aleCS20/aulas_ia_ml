{
  "cells": [
    {
      "cell_type": "markdown",
      "id": "14c602d4",
      "metadata": {
        "id": "14c602d4"
      },
      "source": [
        "# Aula 01"
      ]
    },
    {
      "cell_type": "markdown",
      "id": "3149cadf",
      "metadata": {
        "id": "3149cadf"
      },
      "source": [
        "## Indução e Regressão"
      ]
    },
    {
      "cell_type": "markdown",
      "source": [
        "Vamos começar importando algumas bibliotecas que serão usadas no Notebook."
      ],
      "metadata": {
        "id": "uwOjux8BGLie"
      },
      "id": "uwOjux8BGLie"
    },
    {
      "cell_type": "code",
      "execution_count": 9,
      "id": "96b35b23",
      "metadata": {
        "id": "96b35b23"
      },
      "outputs": [],
      "source": [
        "import numpy as np\n",
        "import matplotlib.pyplot as plt\n",
        "import pandas as pd"
      ]
    },
    {
      "cell_type": "markdown",
      "source": [
        "## NumPy"
      ],
      "metadata": {
        "id": "-Z-3oE9GDARD"
      },
      "id": "-Z-3oE9GDARD"
    },
    {
      "cell_type": "markdown",
      "source": [
        "O NumPy é uma biblioteca muito importante para desenvolvimento em Pythone porque ela permite tratar vetores como objetos matemáticos.\n",
        "\n",
        "Vamos criar alguns vetores com cinco elementos e fazer algumas operações entre eles:"
      ],
      "metadata": {
        "id": "vP7xbYu1GQYM"
      },
      "id": "vP7xbYu1GQYM"
    },
    {
      "cell_type": "code",
      "source": [
        "# Vetor de zeros\n",
        "vetor_zeros = np.zeros(5)\n",
        "print(\"Vetor de zeros:\", vetor_zeros)\n",
        "\n",
        "# Vetor de uns\n",
        "vetor_uns = np.ones(5)\n",
        "print(\"Vetor de uns:\", vetor_uns)\n",
        "\n",
        "# Vetor com valores aleatórios\n",
        "vetor_aleatorio = np.random.rand(5)\n",
        "print(\"Vetor aleatório:\", vetor_aleatorio)"
      ],
      "metadata": {
        "colab": {
          "base_uri": "https://localhost:8080/"
        },
        "id": "WwWNo5BKDB2v",
        "outputId": "3af53ca8-5e9a-48bf-db3d-873a53781f21"
      },
      "id": "WwWNo5BKDB2v",
      "execution_count": 10,
      "outputs": [
        {
          "output_type": "stream",
          "name": "stdout",
          "text": [
            "Vetor de zeros: [0. 0. 0. 0. 0.]\n",
            "Vetor de uns: [1. 1. 1. 1. 1.]\n",
            "Vetor aleatório: [0.30941844 0.161345   0.38095585 0.87738239 0.32773974]\n"
          ]
        }
      ]
    },
    {
      "cell_type": "markdown",
      "source": [
        "Com o NumPy, operadores como `+` e `*` realmente promovem somas e multiplicações de vetores, não apenas concatenações de listas."
      ],
      "metadata": {
        "id": "HJwLH9QwGZp5"
      },
      "id": "HJwLH9QwGZp5"
    },
    {
      "cell_type": "code",
      "source": [
        "vetor_zeros + vetor_uns"
      ],
      "metadata": {
        "colab": {
          "base_uri": "https://localhost:8080/"
        },
        "id": "qYCAcH4AEMjU",
        "outputId": "c8040d79-eddb-437c-a6d3-58da2b280f78"
      },
      "id": "qYCAcH4AEMjU",
      "execution_count": 11,
      "outputs": [
        {
          "output_type": "execute_result",
          "data": {
            "text/plain": [
              "array([1., 1., 1., 1., 1.])"
            ]
          },
          "metadata": {},
          "execution_count": 11
        }
      ]
    },
    {
      "cell_type": "code",
      "source": [
        "vetor_aleatorio * 2"
      ],
      "metadata": {
        "colab": {
          "base_uri": "https://localhost:8080/"
        },
        "id": "Zgq1ve6GEhF1",
        "outputId": "dea0a578-0a8a-43f8-baf3-540c3e33bb0e"
      },
      "id": "Zgq1ve6GEhF1",
      "execution_count": 12,
      "outputs": [
        {
          "output_type": "execute_result",
          "data": {
            "text/plain": [
              "array([0.61883688, 0.32269   , 0.76191169, 1.75476477, 0.65547948])"
            ]
          },
          "metadata": {},
          "execution_count": 12
        }
      ]
    },
    {
      "cell_type": "markdown",
      "id": "2b582a0c",
      "metadata": {
        "id": "2b582a0c"
      },
      "source": [
        "### Uma função-conceito artificial"
      ]
    },
    {
      "cell_type": "markdown",
      "id": "c8111006",
      "metadata": {
        "id": "c8111006"
      },
      "source": [
        "Vamos gerar uma pequena base fictícia para o seguinte problema:\n",
        "\n",
        "- Seja $x$ a quantidade de horas que um aluno estudou por semana, qual será a nota $f(x)$ obtida na disciplina de IA?\n",
        "\n",
        "Para isso, vamos propor uma função-conceito $f$ que produz uma curva não trivial."
      ]
    },
    {
      "cell_type": "code",
      "execution_count": 13,
      "id": "bd543cf6",
      "metadata": {
        "id": "bd543cf6"
      },
      "outputs": [],
      "source": [
        "f = lambda x: (np.sin(x+4.6) + np.sin(1.7*x + 4.8) + 3) * 2.3389"
      ]
    },
    {
      "cell_type": "markdown",
      "id": "eeea503c",
      "metadata": {
        "id": "eeea503c"
      },
      "source": [
        "Vamos gerar um gráfico no intervalo $[0, 5]$ para vermos como essa função se comporta."
      ]
    },
    {
      "cell_type": "code",
      "source": [
        "x100 = np.linspace(0, 5, 100) # Use np.linspace para gerar 100 pontos no intervalo [0, 5]\n",
        "x100"
      ],
      "metadata": {
        "colab": {
          "base_uri": "https://localhost:8080/"
        },
        "id": "oGU-QeDNGCra",
        "outputId": "391217dc-af00-48af-ab7f-3e93806e3601"
      },
      "id": "oGU-QeDNGCra",
      "execution_count": 14,
      "outputs": [
        {
          "output_type": "execute_result",
          "data": {
            "text/plain": [
              "array([0.        , 0.05050505, 0.1010101 , 0.15151515, 0.2020202 ,\n",
              "       0.25252525, 0.3030303 , 0.35353535, 0.4040404 , 0.45454545,\n",
              "       0.50505051, 0.55555556, 0.60606061, 0.65656566, 0.70707071,\n",
              "       0.75757576, 0.80808081, 0.85858586, 0.90909091, 0.95959596,\n",
              "       1.01010101, 1.06060606, 1.11111111, 1.16161616, 1.21212121,\n",
              "       1.26262626, 1.31313131, 1.36363636, 1.41414141, 1.46464646,\n",
              "       1.51515152, 1.56565657, 1.61616162, 1.66666667, 1.71717172,\n",
              "       1.76767677, 1.81818182, 1.86868687, 1.91919192, 1.96969697,\n",
              "       2.02020202, 2.07070707, 2.12121212, 2.17171717, 2.22222222,\n",
              "       2.27272727, 2.32323232, 2.37373737, 2.42424242, 2.47474747,\n",
              "       2.52525253, 2.57575758, 2.62626263, 2.67676768, 2.72727273,\n",
              "       2.77777778, 2.82828283, 2.87878788, 2.92929293, 2.97979798,\n",
              "       3.03030303, 3.08080808, 3.13131313, 3.18181818, 3.23232323,\n",
              "       3.28282828, 3.33333333, 3.38383838, 3.43434343, 3.48484848,\n",
              "       3.53535354, 3.58585859, 3.63636364, 3.68686869, 3.73737374,\n",
              "       3.78787879, 3.83838384, 3.88888889, 3.93939394, 3.98989899,\n",
              "       4.04040404, 4.09090909, 4.14141414, 4.19191919, 4.24242424,\n",
              "       4.29292929, 4.34343434, 4.39393939, 4.44444444, 4.49494949,\n",
              "       4.54545455, 4.5959596 , 4.64646465, 4.6969697 , 4.74747475,\n",
              "       4.7979798 , 4.84848485, 4.8989899 , 4.94949495, 5.        ])"
            ]
          },
          "metadata": {},
          "execution_count": 14
        }
      ]
    },
    {
      "cell_type": "code",
      "source": [
        "y100 = f(x100)\n",
        "y100"
      ],
      "metadata": {
        "colab": {
          "base_uri": "https://localhost:8080/"
        },
        "id": "kEg3RS33GKcC",
        "outputId": "f62c4494-0164-4adb-f4a1-f65cf4725b2e"
      },
      "id": "kEg3RS33GKcC",
      "execution_count": 15,
      "outputs": [
        {
          "output_type": "execute_result",
          "data": {
            "text/plain": [
              "array([ 2.36262671,  2.37847971,  2.41725846,  2.47865644,  2.56222921,\n",
              "        2.66739767,  2.79345226,  2.93955798,  3.10476032,  3.287992  ,\n",
              "        3.4880804 ,  3.70375581,  3.93366022,  4.17635676,  4.4303396 ,\n",
              "        4.69404437,  4.96585884,  5.24413403,  5.52719539,  5.81335421,\n",
              "        6.10091906,  6.38820717,  6.67355571,  6.95533289,  7.2319488 ,\n",
              "        7.50186588,  7.76360892,  8.0157747 ,  8.25704093,  8.48617465,\n",
              "        8.7020399 ,  8.90360475,  9.08994736,  9.26026147,  9.41386078,\n",
              "        9.55018263,  9.66879067,  9.76937661,  9.85176108,  9.91589349,\n",
              "        9.96185102,  9.98983661, 10.0001761 ,  9.99331449,  9.96981129,\n",
              "        9.93033516,  9.87565767,  9.8066464 ,  9.72425738,  9.6295269 ,\n",
              "        9.52356275,  9.40753507,  9.28266669,  9.15022321,  9.01150275,\n",
              "        8.86782564,  8.72052387,  8.57093058,  8.42036965,  8.27014536,\n",
              "        8.12153224,  7.97576535,  7.83403071,  7.69745637,  7.56710382,\n",
              "        7.44396008,  7.32893032,  7.22283123,  7.12638504,  7.0402144 ,\n",
              "        6.96483798,  6.90066695,  6.84800235,  6.80703327,  6.77783598,\n",
              "        6.76037394,  6.75449874,  6.75995184,  6.7763673 ,  6.80327528,\n",
              "        6.8401064 ,  6.88619688,  6.94079442,  7.00306481,  7.07209918,\n",
              "        7.14692181,  7.22649856,  7.30974568,  7.39553909,  7.48272395,\n",
              "        7.57012449,  7.65655406,  7.74082522,  7.82175995,  7.89819968,\n",
              "        7.96901532,  8.03311697,  8.08946343,  8.13707134,  8.17502381])"
            ]
          },
          "metadata": {},
          "execution_count": 15
        }
      ]
    },
    {
      "cell_type": "code",
      "execution_count": 16,
      "id": "f05e8529",
      "metadata": {
        "id": "f05e8529",
        "colab": {
          "base_uri": "https://localhost:8080/",
          "height": 467
        },
        "outputId": "a504bdd9-4761-4514-aa00-35417e6b77bc"
      },
      "outputs": [
        {
          "output_type": "execute_result",
          "data": {
            "text/plain": [
              "[<matplotlib.lines.Line2D at 0x792983218410>]"
            ]
          },
          "metadata": {},
          "execution_count": 16
        },
        {
          "output_type": "display_data",
          "data": {
            "text/plain": [
              "<Figure size 640x480 with 1 Axes>"
            ],
            "image/png": "[encoded data removed]"
          },
          "metadata": {}
        }
      ],
      "source": [
        "plt.plot(x100, y100) # Use plt.plot para plotar a curva"
      ]
    },
    {
      "cell_type": "markdown",
      "source": [],
      "metadata": {
        "id": "zCM4a5dfF0lj"
      },
      "id": "zCM4a5dfF0lj"
    },
    {
      "cell_type": "markdown",
      "id": "8d2e2de8",
      "metadata": {
        "id": "8d2e2de8"
      },
      "source": [
        "### Uma pequena base de treinamento"
      ]
    },
    {
      "cell_type": "markdown",
      "id": "c08be0b9",
      "metadata": {
        "id": "c08be0b9"
      },
      "source": [
        "Agora vamos gerar uma base de treinamento. O ato de coletar dados é chamado **amostragem**, portanto essa base será a nossa **amostra**. Cada caso da amostra é chamado de **exemplo** ou **instância**.\n",
        "\n",
        "Cada exemplo da nossa amostra será um par $(x_i, y_i)$. O valor $x_i$ é um **atributo de entrada** que **caracteriza** o exemplo. Normalmente usamos dados que possuem múltiplos atributos, mas para este exercício, teremos um único atributo de entrada. Já o valor $y_i$ é um **atributo-alvo** chamado **rótulo**. Em problemas de regressão o rótulo é um valor numérico e o objetivo do Aprendizado de Máquina é prever o rótulo correto $y_i$ (nota) para um valor de entrada $x_i$ (quantidade de horas estudadas).\n",
        "\n",
        "Neste exercício os dados serão gerados artificialmente. Os valores $x_i$ serão tomados uniformemente entre 0 e 5. Os valores $y_i$ serão gerados com base na função $f$, acrescidos de um pequeno ruído aleatório."
      ]
    },
    {
      "cell_type": "markdown",
      "id": "09079810",
      "metadata": {
        "id": "09079810"
      },
      "source": [
        "Para gerar o ruído, usaremos o módulo `numpy.random`. Primeiro vamos criar um objeto da classe `RandomState`, especificando uma semente inicial. O motivo ficará claro em breve.\n",
        "\n",
        "Para cada $x_i$, o valor de $y_i$ será calculado da seguinte forma:\n",
        "\n",
        "$$y_i = f(x_i) + z_i$$\n",
        "\n",
        "Sendo que $z_i$ é um valor aleatório escolhido de uma distribuição normal com média $0$ e desvio padrão $0{,}2$. Dessa forma o rótulo será um valor bem próximo, mas não idêntico ao produzido pela função-conceito. Normalmente é isso o que acontece no mundo real: os dados possuem uma parte regular e um ruído aleatório."
      ]
    },
    {
      "cell_type": "code",
      "execution_count": 17,
      "id": "0f35dbb9",
      "metadata": {
        "id": "0f35dbb9"
      },
      "outputs": [],
      "source": [
        "state = np.random.RandomState(42)\n",
        "noise = state.normal(loc=0, scale=0.2, size=11)"
      ]
    },
    {
      "cell_type": "code",
      "execution_count": 18,
      "id": "fb48a246",
      "metadata": {
        "id": "fb48a246"
      },
      "outputs": [],
      "source": [
        "x = np.linspace(0, 5, 11)\n",
        "y = f(x) + noise #"
      ]
    },
    {
      "cell_type": "markdown",
      "id": "555bebe6",
      "metadata": {
        "id": "555bebe6"
      },
      "source": [
        "Vamos observar esses dados, juntamente com a função-conceito?"
      ]
    },
    {
      "cell_type": "code",
      "execution_count": 19,
      "id": "eef7762b",
      "metadata": {
        "id": "eef7762b",
        "colab": {
          "base_uri": "https://localhost:8080/",
          "height": 450
        },
        "outputId": "14dbc65b-13db-406f-9a31-6db581a83f0e"
      },
      "outputs": [
        {
          "output_type": "display_data",
          "data": {
            "text/plain": [
              "<Figure size 640x480 with 1 Axes>"
            ],
            "image/png": "[encoded data removed]"
          },
          "metadata": {}
        }
      ],
      "source": [
        "plt.plot(x100, f(x100), 'g', label='f(x)');\n",
        "plt.plot(x, y, '.r', label='$y_i$');\n",
        "plt.legend();"
      ]
    },
    {
      "cell_type": "markdown",
      "id": "abda6a5b",
      "metadata": {
        "id": "abda6a5b"
      },
      "source": [
        "Pronto! Essa nossa pequena base será a **experiência E** que utilizaremos para treinar o modelo."
      ]
    },
    {
      "cell_type": "code",
      "execution_count": 20,
      "id": "fe8e5093",
      "metadata": {
        "id": "fe8e5093",
        "colab": {
          "base_uri": "https://localhost:8080/",
          "height": 414
        },
        "outputId": "3a557643-f8a3-420a-86f8-f99af738283c"
      },
      "outputs": [
        {
          "output_type": "execute_result",
          "data": {
            "text/plain": [
              "    Estudo p/ dia      Nota\n",
              "0             0.0  2.461970\n",
              "1             0.5  3.439696\n",
              "2             1.0  6.172912\n",
              "3             1.5  8.943343\n",
              "4             2.0  9.898808\n",
              "5             2.5  9.531050\n",
              "6             3.0  8.526279\n",
              "7             3.5  7.169934\n",
              "8             4.0  6.715973\n",
              "9             4.5  7.599986\n",
              "10            5.0  8.082340"
            ],
            "text/html": [
              "\n",
              "  <div id=\"df-4b8e24fd-a8f7-4832-bac3-ac3eced4f0d6\" class=\"colab-df-container\">\n",
              "    <div>\n",
              "<style scoped>\n",
              "    .dataframe tbody tr th:only-of-type {\n",
              "        vertical-align: middle;\n",
              "    }\n",
              "\n",
              "    .dataframe tbody tr th {\n",
              "        vertical-align: top;\n",
              "    }\n",
              "\n",
              "    .dataframe thead th {\n",
              "        text-align: right;\n",
              "    }\n",
              "</style>\n",
              "<table border=\"1\" class=\"dataframe\">\n",
              "  <thead>\n",
              "    <tr style=\"text-align: right;\">\n",
              "      <th></th>\n",
              "      <th>Estudo p/ dia</th>\n",
              "      <th>Nota</th>\n",
              "    </tr>\n",
              "  </thead>\n",
              "  <tbody>\n",
              "    <tr>\n",
              "      <th>0</th>\n",
              "      <td>0.0</td>\n",
              "      <td>2.461970</td>\n",
              "    </tr>\n",
              "    <tr>\n",
              "      <th>1</th>\n",
              "      <td>0.5</td>\n",
              "      <td>3.439696</td>\n",
              "    </tr>\n",
              "    <tr>\n",
              "      <th>2</th>\n",
              "      <td>1.0</td>\n",
              "      <td>6.172912</td>\n",
              "    </tr>\n",
              "    <tr>\n",
              "      <th>3</th>\n",
              "      <td>1.5</td>\n",
              "      <td>8.943343</td>\n",
              "    </tr>\n",
              "    <tr>\n",
              "      <th>4</th>\n",
              "      <td>2.0</td>\n",
              "      <td>9.898808</td>\n",
              "    </tr>\n",
              "    <tr>\n",
              "      <th>5</th>\n",
              "      <td>2.5</td>\n",
              "      <td>9.531050</td>\n",
              "    </tr>\n",
              "    <tr>\n",
              "      <th>6</th>\n",
              "      <td>3.0</td>\n",
              "      <td>8.526279</td>\n",
              "    </tr>\n",
              "    <tr>\n",
              "      <th>7</th>\n",
              "      <td>3.5</td>\n",
              "      <td>7.169934</td>\n",
              "    </tr>\n",
              "    <tr>\n",
              "      <th>8</th>\n",
              "      <td>4.0</td>\n",
              "      <td>6.715973</td>\n",
              "    </tr>\n",
              "    <tr>\n",
              "      <th>9</th>\n",
              "      <td>4.5</td>\n",
              "      <td>7.599986</td>\n",
              "    </tr>\n",
              "    <tr>\n",
              "      <th>10</th>\n",
              "      <td>5.0</td>\n",
              "      <td>8.082340</td>\n",
              "    </tr>\n",
              "  </tbody>\n",
              "</table>\n",
              "</div>\n",
              "    <div class=\"colab-df-buttons\">\n",
              "\n",
              "  <div class=\"colab-df-container\">\n",
              "    <button class=\"colab-df-convert\" onclick=\"convertToInteractive('df-4b8e24fd-a8f7-4832-bac3-ac3eced4f0d6')\"\n",
              "            title=\"Convert this dataframe to an interactive table.\"\n",
              "            style=\"display:none;\">\n",
              "\n",
              "  <svg xmlns=\"http://www.w3.org/2000/svg\" height=\"24px\" viewBox=\"0 -960 960 960\">\n",
              "    <path d=\"M120-120v-720h720v720H120Zm60-500h600v-160H180v160Zm220 220h160v-160H400v160Zm0 220h160v-160H400v160ZM180-400h160v-160H180v160Zm440 0h160v-160H620v160ZM180-180h160v-160H180v160Zm440 0h160v-160H620v160Z\"/>\n",
              "  </svg>\n",
              "    </button>\n",
              "\n",
              "  <style>\n",
              "    .colab-df-container {\n",
              "      display:flex;\n",
              "      gap: 12px;\n",
              "    }\n",
              "\n",
              "    .colab-df-convert {\n",
              "      background-color: #E8F0FE;\n",
              "      border: none;\n",
              "      border-radius: 50%;\n",
              "      cursor: pointer;\n",
              "      display: none;\n",
              "      fill: #1967D2;\n",
              "      height: 32px;\n",
              "      padding: 0 0 0 0;\n",
              "      width: 32px;\n",
              "    }\n",
              "\n",
              "    .colab-df-convert:hover {\n",
              "      background-color: #E2EBFA;\n",
              "      box-shadow: 0px 1px 2px rgba(60, 64, 67, 0.3), 0px 1px 3px 1px rgba(60, 64, 67, 0.15);\n",
              "      fill: #174EA6;\n",
              "    }\n",
              "\n",
              "    .colab-df-buttons div {\n",
              "      margin-bottom: 4px;\n",
              "    }\n",
              "\n",
              "    [theme=dark] .colab-df-convert {\n",
              "      background-color: #3B4455;\n",
              "      fill: #D2E3FC;\n",
              "    }\n",
              "\n",
              "    [theme=dark] .colab-df-convert:hover {\n",
              "      background-color: #434B5C;\n",
              "      box-shadow: 0px 1px 3px 1px rgba(0, 0, 0, 0.15);\n",
              "      filter: drop-shadow(0px 1px 2px rgba(0, 0, 0, 0.3));\n",
              "      fill: #FFFFFF;\n",
              "    }\n",
              "  </style>\n",
              "\n",
              "    <script>\n",
              "      const buttonEl =\n",
              "        document.querySelector('#df-4b8e24fd-a8f7-4832-bac3-ac3eced4f0d6 button.colab-df-convert');\n",
              "      buttonEl.style.display =\n",
              "        google.colab.kernel.accessAllowed ? 'block' : 'none';\n",
              "\n",
              "      async function convertToInteractive(key) {\n",
              "        const element = document.querySelector('#df-4b8e24fd-a8f7-4832-bac3-ac3eced4f0d6');\n",
              "        const dataTable =\n",
              "          await google.colab.kernel.invokeFunction('convertToInteractive',\n",
              "                                                    [key], {});\n",
              "        if (!dataTable) return;\n",
              "\n",
              "        const docLinkHtml = 'Like what you see? Visit the ' +\n",
              "          '<a target=\"_blank\" href=https://colab.research.google.com/notebooks/data_table.ipynb>data table notebook</a>'\n",
              "          + ' to learn more about interactive tables.';\n",
              "        element.innerHTML = '';\n",
              "        dataTable['output_type'] = 'display_data';\n",
              "        await google.colab.output.renderOutput(dataTable, element);\n",
              "        const docLink = document.createElement('div');\n",
              "        docLink.innerHTML = docLinkHtml;\n",
              "        element.appendChild(docLink);\n",
              "      }\n",
              "    </script>\n",
              "  </div>\n",
              "\n",
              "\n",
              "    <div id=\"df-5e88df63-8bc6-48a1-92b2-fc2826f8160b\">\n",
              "      <button class=\"colab-df-quickchart\" onclick=\"quickchart('df-5e88df63-8bc6-48a1-92b2-fc2826f8160b')\"\n",
              "                title=\"Suggest charts\"\n",
              "                style=\"display:none;\">\n",
              "\n",
              "<svg xmlns=\"http://www.w3.org/2000/svg\" height=\"24px\"viewBox=\"0 0 24 24\"\n",
              "     width=\"24px\">\n",
              "    <g>\n",
              "        <path d=\"M19 3H5c-1.1 0-2 .9-2 2v14c0 1.1.9 2 2 2h14c1.1 0 2-.9 2-2V5c0-1.1-.9-2-2-2zM9 17H7v-7h2v7zm4 0h-2V7h2v10zm4 0h-2v-4h2v4z\"/>\n",
              "    </g>\n",
              "</svg>\n",
              "      </button>\n",
              "\n",
              "<style>\n",
              "  .colab-df-quickchart {\n",
              "      --bg-color: #E8F0FE;\n",
              "      --fill-color: #1967D2;\n",
              "      --hover-bg-color: #E2EBFA;\n",
              "      --hover-fill-color: #174EA6;\n",
              "      --disabled-fill-color: #AAA;\n",
              "      --disabled-bg-color: #DDD;\n",
              "  }\n",
              "\n",
              "  [theme=dark] .colab-df-quickchart {\n",
              "      --bg-color: #3B4455;\n",
              "      --fill-color: #D2E3FC;\n",
              "      --hover-bg-color: #434B5C;\n",
              "      --hover-fill-color: #FFFFFF;\n",
              "      --disabled-bg-color: #3B4455;\n",
              "      --disabled-fill-color: #666;\n",
              "  }\n",
              "\n",
              "  .colab-df-quickchart {\n",
              "    background-color: var(--bg-color);\n",
              "    border: none;\n",
              "    border-radius: 50%;\n",
              "    cursor: pointer;\n",
              "    display: none;\n",
              "    fill: var(--fill-color);\n",
              "    height: 32px;\n",
              "    padding: 0;\n",
              "    width: 32px;\n",
              "  }\n",
              "\n",
              "  .colab-df-quickchart:hover {\n",
              "    background-color: var(--hover-bg-color);\n",
              "    box-shadow: 0 1px 2px rgba(60, 64, 67, 0.3), 0 1px 3px 1px rgba(60, 64, 67, 0.15);\n",
              "    fill: var(--button-hover-fill-color);\n",
              "  }\n",
              "\n",
              "  .colab-df-quickchart-complete:disabled,\n",
              "  .colab-df-quickchart-complete:disabled:hover {\n",
              "    background-color: var(--disabled-bg-color);\n",
              "    fill: var(--disabled-fill-color);\n",
              "    box-shadow: none;\n",
              "  }\n",
              "\n",
              "  .colab-df-spinner {\n",
              "    border: 2px solid var(--fill-color);\n",
              "    border-color: transparent;\n",
              "    border-bottom-color: var(--fill-color);\n",
              "    animation:\n",
              "      spin 1s steps(1) infinite;\n",
              "  }\n",
              "\n",
              "  @keyframes spin {\n",
              "    0% {\n",
              "      border-color: transparent;\n",
              "      border-bottom-color: var(--fill-color);\n",
              "      border-left-color: var(--fill-color);\n",
              "    }\n",
              "    20% {\n",
              "      border-color: transparent;\n",
              "      border-left-color: var(--fill-color);\n",
              "      border-top-color: var(--fill-color);\n",
              "    }\n",
              "    30% {\n",
              "      border-color: transparent;\n",
              "      border-left-color: var(--fill-color);\n",
              "      border-top-color: var(--fill-color);\n",
              "      border-right-color: var(--fill-color);\n",
              "    }\n",
              "    40% {\n",
              "      border-color: transparent;\n",
              "      border-right-color: var(--fill-color);\n",
              "      border-top-color: var(--fill-color);\n",
              "    }\n",
              "    60% {\n",
              "      border-color: transparent;\n",
              "      border-right-color: var(--fill-color);\n",
              "    }\n",
              "    80% {\n",
              "      border-color: transparent;\n",
              "      border-right-color: var(--fill-color);\n",
              "      border-bottom-color: var(--fill-color);\n",
              "    }\n",
              "    90% {\n",
              "      border-color: transparent;\n",
              "      border-bottom-color: var(--fill-color);\n",
              "    }\n",
              "  }\n",
              "</style>\n",
              "\n",
              "      <script>\n",
              "        async function quickchart(key) {\n",
              "          const quickchartButtonEl =\n",
              "            document.querySelector('#' + key + ' button');\n",
              "          quickchartButtonEl.disabled = true;  // To prevent multiple clicks.\n",
              "          quickchartButtonEl.classList.add('colab-df-spinner');\n",
              "          try {\n",
              "            const charts = await google.colab.kernel.invokeFunction(\n",
              "                'suggestCharts', [key], {});\n",
              "          } catch (error) {\n",
              "            console.error('Error during call to suggestCharts:', error);\n",
              "          }\n",
              "          quickchartButtonEl.classList.remove('colab-df-spinner');\n",
              "          quickchartButtonEl.classList.add('colab-df-quickchart-complete');\n",
              "        }\n",
              "        (() => {\n",
              "          let quickchartButtonEl =\n",
              "            document.querySelector('#df-5e88df63-8bc6-48a1-92b2-fc2826f8160b button');\n",
              "          quickchartButtonEl.style.display =\n",
              "            google.colab.kernel.accessAllowed ? 'block' : 'none';\n",
              "        })();\n",
              "      </script>\n",
              "    </div>\n",
              "\n",
              "    </div>\n",
              "  </div>\n"
            ],
            "application/vnd.google.colaboratory.intrinsic+json": {
              "type": "dataframe",
              "summary": "{\n  \"name\": \"pd\",\n  \"rows\": 11,\n  \"fields\": [\n    {\n      \"column\": \"Estudo p/ dia\",\n      \"properties\": {\n        \"dtype\": \"number\",\n        \"std\": 1.6583123951777,\n        \"min\": 0.0,\n        \"max\": 5.0,\n        \"num_unique_values\": 11,\n        \"samples\": [\n          2.5,\n          0.0,\n          4.5\n        ],\n        \"semantic_type\": \"\",\n        \"description\": \"\"\n      }\n    },\n    {\n      \"column\": \"Nota\",\n      \"properties\": {\n        \"dtype\": \"number\",\n        \"std\": 2.3726298607526397,\n        \"min\": 2.4619695385977893,\n        \"max\": 9.898808119195094,\n        \"num_unique_values\": 11,\n        \"samples\": [\n          9.53104985547667,\n          2.4619695385977893,\n          7.599985836630217\n        ],\n        \"semantic_type\": \"\",\n        \"description\": \"\"\n      }\n    }\n  ]\n}"
            }
          },
          "metadata": {},
          "execution_count": 20
        }
      ],
      "source": [
        "pd.DataFrame(np.array([x,y]).T, columns=[\"Estudo p/ dia\", \"Nota\"])"
      ]
    },
    {
      "cell_type": "markdown",
      "source": [
        "## Treinando um modelo de regressão com o scikit-learn"
      ],
      "metadata": {
        "id": "OnI-U8npjKAj"
      },
      "id": "OnI-U8npjKAj"
    },
    {
      "cell_type": "markdown",
      "id": "729831ae",
      "metadata": {
        "id": "729831ae"
      },
      "source": [
        "### Modelo de regressão"
      ]
    },
    {
      "cell_type": "markdown",
      "id": "4b151900",
      "metadata": {
        "id": "4b151900"
      },
      "source": [
        "O nosso modelo $\\hat{h}(x)$ será uma função de regressão linear. Ela terá a seguinte forma:\n",
        "\n",
        "$$\\hat{h}(x) = w_0 + w_1\\cdot{}x$$\n",
        "\n",
        "Lembrando um pouco de geometria analítica, podemos ver que $\\hat{h}$ é a equação de uma reta. O nosso modelo vai tentar \"encaixar\" os pontos do conjunto de treinamento em uma reta.\n",
        "\n",
        "Observe que o nosso modelo usa a variável de entrada $x$ e dois valores adicionais:\n",
        "\n",
        "- $w_0$ é um **viés**\n",
        "- $w_1$ é um **parâmetro** (que, no contexto de regressão, também é chamado **peso**)\n",
        "\n",
        "O objetivo do treinamento é buscar (aprender) os melhores parâmetros para o conjunto de dados."
      ]
    },
    {
      "cell_type": "markdown",
      "source": [
        "Vamos treinar o modelo utilizando a implementação do Python na biblioteca `scikit-learn`."
      ],
      "metadata": {
        "id": "IAEmeB4yfDix"
      },
      "id": "IAEmeB4yfDix"
    },
    {
      "cell_type": "code",
      "source": [
        "from sklearn.linear_model import LinearRegression"
      ],
      "metadata": {
        "id": "eKStWbwyfJ8W"
      },
      "id": "eKStWbwyfJ8W",
      "execution_count": 21,
      "outputs": []
    },
    {
      "cell_type": "code",
      "source": [
        "h = LinearRegression()"
      ],
      "metadata": {
        "id": "LCchSs1YfPJY"
      },
      "id": "LCchSs1YfPJY",
      "execution_count": 22,
      "outputs": []
    },
    {
      "cell_type": "markdown",
      "source": [
        "Um ponto importante do `scikit-learn` é que os dados de entrada dos modelos devem estar em matrizes.\n",
        "\n",
        "No momento, nossos atributos de entrada estão guardados em um vetor:"
      ],
      "metadata": {
        "id": "jMHJRzCHGxX9"
      },
      "id": "jMHJRzCHGxX9"
    },
    {
      "cell_type": "code",
      "source": [
        "x"
      ],
      "metadata": {
        "colab": {
          "base_uri": "https://localhost:8080/"
        },
        "id": "lfCZJRFQLbT4",
        "outputId": "10cf2f8a-a4e9-4f11-82fe-764116863106"
      },
      "id": "lfCZJRFQLbT4",
      "execution_count": 23,
      "outputs": [
        {
          "output_type": "execute_result",
          "data": {
            "text/plain": [
              "array([0. , 0.5, 1. , 1.5, 2. , 2.5, 3. , 3.5, 4. , 4.5, 5. ])"
            ]
          },
          "metadata": {},
          "execution_count": 23
        }
      ]
    },
    {
      "cell_type": "markdown",
      "source": [
        "Podemos converter esse vetor em uma matriz de 11 linhas e 1 coluna utilizando o método `reshape` dos vetores NumPy. Mas ao invés de especificar o número de linhas, podemos especificar `-1`, então o NumPy se encarregará de encontrar o máximo de linahs necessário."
      ],
      "metadata": {
        "id": "dZOUgGzLG5wB"
      },
      "id": "dZOUgGzLG5wB"
    },
    {
      "cell_type": "code",
      "source": [
        "X = x.reshape(-1, 1)\n",
        "X"
      ],
      "metadata": {
        "id": "mKGELRdnfPW_",
        "colab": {
          "base_uri": "https://localhost:8080/"
        },
        "outputId": "e41c2413-22d2-46a9-b2a4-46867601cf3d"
      },
      "id": "mKGELRdnfPW_",
      "execution_count": 24,
      "outputs": [
        {
          "output_type": "execute_result",
          "data": {
            "text/plain": [
              "array([[0. ],\n",
              "       [0.5],\n",
              "       [1. ],\n",
              "       [1.5],\n",
              "       [2. ],\n",
              "       [2.5],\n",
              "       [3. ],\n",
              "       [3.5],\n",
              "       [4. ],\n",
              "       [4.5],\n",
              "       [5. ]])"
            ]
          },
          "metadata": {},
          "execution_count": 24
        }
      ]
    },
    {
      "cell_type": "markdown",
      "source": [
        "Agora nós **ajustamos** o modelo aos dados. Isso é feito com o método `fit`. Ele deve receber como argumentos a matriz que contém os atributos de entrada e o vetor que contém os atributos de saída."
      ],
      "metadata": {
        "id": "_rXa8_5QHI7K"
      },
      "id": "_rXa8_5QHI7K"
    },
    {
      "cell_type": "code",
      "source": [
        "h.fit(X, y);"
      ],
      "metadata": {
        "id": "jd17aZ2nfPed"
      },
      "id": "jd17aZ2nfPed",
      "execution_count": 25,
      "outputs": []
    },
    {
      "cell_type": "markdown",
      "source": [
        "Após a execução do método `fit`, o modelo **aprendeu** o melhor conjunto de **parâmetros** para os dados de treinamento.\n",
        "\n",
        "O atributo `intercept_` contém o valor do peso $w_0$. O atributo `coef_` é um vetor que guarda os valores dos demais pesos. Como nosso modelo tem a forma $y(x)~=~w_0~+~w_1x$, então esse vetor só tem um elemento:"
      ],
      "metadata": {
        "id": "Vm4l10rCHSrg"
      },
      "id": "Vm4l10rCHSrg"
    },
    {
      "cell_type": "code",
      "source": [
        "h.coef_"
      ],
      "metadata": {
        "colab": {
          "base_uri": "https://localhost:8080/"
        },
        "id": "MP6V5TqoL8rr",
        "outputId": "84d1f7b1-a575-4e80-8f5b-5153f68a9525"
      },
      "id": "MP6V5TqoL8rr",
      "execution_count": 26,
      "outputs": [
        {
          "output_type": "execute_result",
          "data": {
            "text/plain": [
              "array([0.75368817])"
            ]
          },
          "metadata": {},
          "execution_count": 26
        }
      ]
    },
    {
      "cell_type": "code",
      "source": [
        "h.intercept_"
      ],
      "metadata": {
        "colab": {
          "base_uri": "https://localhost:8080/"
        },
        "id": "wGcGuW6XMHXd",
        "outputId": "2ad9af66-56d8-4b68-c2a8-d8f512b4d002"
      },
      "id": "wGcGuW6XMHXd",
      "execution_count": 27,
      "outputs": [
        {
          "output_type": "execute_result",
          "data": {
            "text/plain": [
              "np.float64(5.255987813581457)"
            ]
          },
          "metadata": {},
          "execution_count": 27
        }
      ]
    },
    {
      "cell_type": "markdown",
      "source": [
        "Para fazer **inferências** com o modelo, usamos o método `predict`. Ele deve receber como entrada uma matriz de exemplos.\n",
        "\n",
        "Vamos ver, por exemplo, quais notas seriam obtidas pelos alunos que estudarem, respectivamente, 2,75 horas por semana e 8 horas por semana."
      ],
      "metadata": {
        "id": "vmxNbiJwHvcg"
      },
      "id": "vmxNbiJwHvcg"
    },
    {
      "cell_type": "code",
      "source": [
        "h.predict([[2.75],\n",
        "           [8]])"
      ],
      "metadata": {
        "colab": {
          "base_uri": "https://localhost:8080/"
        },
        "id": "BO6QRjkEMEsH",
        "outputId": "2de38147-3105-4723-8adc-edc99b335473"
      },
      "id": "BO6QRjkEMEsH",
      "execution_count": 28,
      "outputs": [
        {
          "output_type": "execute_result",
          "data": {
            "text/plain": [
              "array([ 7.32863028, 11.28549316])"
            ]
          },
          "metadata": {},
          "execution_count": 28
        }
      ]
    },
    {
      "cell_type": "markdown",
      "source": [
        "Agora, vamos verificar qual a saída do modelo para os próprios dados de treinamento:"
      ],
      "metadata": {
        "id": "aZed_u8tH-MO"
      },
      "id": "aZed_u8tH-MO"
    },
    {
      "cell_type": "code",
      "source": [
        "ypred = h.predict(X)\n",
        "ypred"
      ],
      "metadata": {
        "id": "X91WssjzfPmn",
        "colab": {
          "base_uri": "https://localhost:8080/"
        },
        "outputId": "04d54fe4-494f-47cc-96ea-4b8b6c312974"
      },
      "id": "X91WssjzfPmn",
      "execution_count": 29,
      "outputs": [
        {
          "output_type": "execute_result",
          "data": {
            "text/plain": [
              "array([5.25598781, 5.6328319 , 6.00967598, 6.38652007, 6.76336415,\n",
              "       7.14020824, 7.51705232, 7.8938964 , 8.27074049, 8.64758457,\n",
              "       9.02442866])"
            ]
          },
          "metadata": {},
          "execution_count": 29
        }
      ]
    },
    {
      "cell_type": "markdown",
      "source": [
        "Podemos plotar isso em um gráfico:"
      ],
      "metadata": {
        "id": "y_WZjDCnIExm"
      },
      "id": "y_WZjDCnIExm"
    },
    {
      "cell_type": "code",
      "source": [
        "plt.figure()\n",
        "plt.plot(x100, f(x100), 'g', label='f(x)');\n",
        "plt.plot(x, y, '.r', label='yi');\n",
        "plt.plot(x, ypred, 'purple', label='sklearn Linear Regression');\n",
        "plt.legend();\n",
        "plt.title('Sklearn Linear Regression Model')\n",
        "plt.show()"
      ],
      "metadata": {
        "id": "7nZB1iGOfI9x",
        "colab": {
          "base_uri": "https://localhost:8080/",
          "height": 472
        },
        "outputId": "b2f196f4-393e-4da3-e17d-690c0cdd0146"
      },
      "id": "7nZB1iGOfI9x",
      "execution_count": 30,
      "outputs": [
        {
          "output_type": "display_data",
          "data": {
            "text/plain": [
              "<Figure size 640x480 with 1 Axes>"
            ],
            "image/png": "[encoded data removed]"
          },
          "metadata": {}
        }
      ]
    },
    {
      "cell_type": "markdown",
      "id": "fe5ede00",
      "metadata": {
        "id": "fe5ede00"
      },
      "source": [
        "### Mais atributos"
      ]
    },
    {
      "cell_type": "markdown",
      "id": "ffe9a012",
      "metadata": {
        "id": "ffe9a012"
      },
      "source": [
        "O modelo encontrado anteriormente é muito simples. Possuindo apenas dois parâmetros, tudo o que o modelo pode fazer é ajustar o ângulo de interceptação e a altura em que a reta cruza o eixo das ordenadas.\n",
        "\n",
        "Uma versão um pouco mais elaborada da regressão linear é a seguinte:\n",
        "\n",
        "$$\\begin{eqnarray}\\hat{h}(x) & = & \\displaystyle\\sum_{i=0}^{M}w_ix^i\\\\ & = & w_0 + w_1x + w_2x^2 + w_3x^3 + \\ldots + w_mx^m\\end{eqnarray}$$\n",
        "\n",
        "O conjunto de dados continua tendo apenas um atributo de entrada (a quantidade de horas que o estudante se dedicou), porém o modelo observa esse conjunto em um espaço de $M$ dimensões.\n",
        "\n",
        "Isso aumenta a **capacidade** do modelo e ele pode fazer aproximações de conjuntos mais elaborados."
      ]
    },
    {
      "cell_type": "markdown",
      "id": "834a40d6",
      "metadata": {
        "id": "834a40d6"
      },
      "source": [
        "A primeira coisa a fazer é estender o conjunto de dados acrescentando colunas para $x^2$, $x^3$, $x^4$ etc.\n",
        "\n",
        "Isso pode ser feito com a classe `PolynomialFeatures`. Ela é uma ferramenta de pré-processamento e pode ser instanciada assim:"
      ]
    },
    {
      "cell_type": "code",
      "source": [
        "from sklearn.preprocessing import PolynomialFeatures\n",
        "poly_features = PolynomialFeatures(degree=3)"
      ],
      "metadata": {
        "id": "jE3pldmQPn0W"
      },
      "id": "jE3pldmQPn0W",
      "execution_count": 31,
      "outputs": []
    },
    {
      "cell_type": "markdown",
      "source": [
        "As classes de pré-processamento do `scikit-learn` têm duas funções importantes:\n",
        "\n",
        "- A função `fit` serve para observar os dados e extrair estatísticas e aprender padrões deles. Funciona de maneira semelhante ao método `fit` dos modelos\n",
        "- A função `transform` serve para aplicar a transformação nos dados\n",
        "\n",
        "Podemos fazer um teste com uma pequena matriz de 3 linhas e uma coluna que possui apenas alguns valores de exemplo:\n",
        "\n",
        "$$\\begin{pmatrix}1\\\\2\\\\3\\end{pmatrix}$$\n",
        "\n",
        "Vamos aplicar um transformador polinomial nessa matriz, com grau 4, e observar o resultado."
      ],
      "metadata": {
        "id": "TKAOrdC4PqqT"
      },
      "id": "TKAOrdC4PqqT"
    },
    {
      "cell_type": "code",
      "source": [
        "teste = np.array([[1],\n",
        "                  [2],\n",
        "                  [3]])\n",
        "teste"
      ],
      "metadata": {
        "colab": {
          "base_uri": "https://localhost:8080/"
        },
        "id": "QBAlZBnmQN0c",
        "outputId": "fe8a8ba2-ea4d-42f4-8d90-9da8598a8567"
      },
      "id": "QBAlZBnmQN0c",
      "execution_count": 32,
      "outputs": [
        {
          "output_type": "execute_result",
          "data": {
            "text/plain": [
              "array([[1],\n",
              "       [2],\n",
              "       [3]])"
            ]
          },
          "metadata": {},
          "execution_count": 32
        }
      ]
    },
    {
      "cell_type": "code",
      "source": [
        "poly_features.fit(teste);"
      ],
      "metadata": {
        "id": "NM4V-qWMQSP-"
      },
      "id": "NM4V-qWMQSP-",
      "execution_count": 33,
      "outputs": []
    },
    {
      "cell_type": "code",
      "source": [
        "poly_features.transform(teste)"
      ],
      "metadata": {
        "colab": {
          "base_uri": "https://localhost:8080/"
        },
        "id": "DJ3C8LNXQYG6",
        "outputId": "dce25898-44ee-40cb-84c4-76e83e5d25b5"
      },
      "id": "DJ3C8LNXQYG6",
      "execution_count": 34,
      "outputs": [
        {
          "output_type": "execute_result",
          "data": {
            "text/plain": [
              "array([[ 1.,  1.,  1.,  1.],\n",
              "       [ 1.,  2.,  4.,  8.],\n",
              "       [ 1.,  3.,  9., 27.]])"
            ]
          },
          "metadata": {},
          "execution_count": 34
        }
      ]
    },
    {
      "cell_type": "markdown",
      "source": [
        "Como podemos ver, o resultado foi uma matriz de cinco colunas. A primeira coluna contém apenas uns porque é o resultado de elevar os valores originais a zero ($x^0=1$). A segunda coluna contéms valores originais ($x^1$). A quarta coluna contém o quadrado dos valores originais, depois a quinta coluna contém os valores originais à terceira potência e a última contém os valores originais elevados à quarta potência.\n",
        "\n",
        "Vamos agora fazer a mesma coisa com o conjunto de dados horas/nota, mas vamos omitir a primeira coluna ($x^0$) porque ela não é necessária para o modelo de regressão linear. Podemos fazer isso especificando o valor `False` para o parâmetro `include_bias` da classe `PolynomialFeatures`."
      ],
      "metadata": {
        "id": "FUvFg1FgQarY"
      },
      "id": "FUvFg1FgQarY"
    },
    {
      "cell_type": "code",
      "source": [
        "from sklearn.preprocessing import PolynomialFeatures\n",
        "from sklearn.linear_model import LinearRegression"
      ],
      "metadata": {
        "id": "D4IlJVw1fyuA"
      },
      "id": "D4IlJVw1fyuA",
      "execution_count": 35,
      "outputs": []
    },
    {
      "cell_type": "code",
      "source": [
        "poly_features = PolynomialFeatures(degree=2, include_bias=False)\n",
        "X_poly = poly_features.fit_transform(X)"
      ],
      "metadata": {
        "id": "m8bdd-Orfz5Y"
      },
      "id": "m8bdd-Orfz5Y",
      "execution_count": 36,
      "outputs": []
    },
    {
      "cell_type": "markdown",
      "source": [
        "Agora a matriz `X_poly` contém os valores originais das horas estudadas por dia e o seu quadrado:"
      ],
      "metadata": {
        "id": "uK1dqzzyRSK5"
      },
      "id": "uK1dqzzyRSK5"
    },
    {
      "cell_type": "code",
      "source": [
        "X_poly"
      ],
      "metadata": {
        "colab": {
          "base_uri": "https://localhost:8080/"
        },
        "id": "vnAgq0CuyNIS",
        "outputId": "a9203392-ced7-4f00-8c0f-24670a2db0bd"
      },
      "id": "vnAgq0CuyNIS",
      "execution_count": 37,
      "outputs": [
        {
          "output_type": "execute_result",
          "data": {
            "text/plain": [
              "array([[ 0.  ,  0.  ],\n",
              "       [ 0.5 ,  0.25],\n",
              "       [ 1.  ,  1.  ],\n",
              "       [ 1.5 ,  2.25],\n",
              "       [ 2.  ,  4.  ],\n",
              "       [ 2.5 ,  6.25],\n",
              "       [ 3.  ,  9.  ],\n",
              "       [ 3.5 , 12.25],\n",
              "       [ 4.  , 16.  ],\n",
              "       [ 4.5 , 20.25],\n",
              "       [ 5.  , 25.  ]])"
            ]
          },
          "metadata": {},
          "execution_count": 37
        }
      ]
    },
    {
      "cell_type": "markdown",
      "source": [
        "Vamos treinar o modelo, que agora terá a seguinte forma e será uma parábola:\n",
        "\n",
        "$$h(x) = w_0 + w_1x + w_2x^2$$"
      ],
      "metadata": {
        "id": "pPv-IcvtRYIb"
      },
      "id": "pPv-IcvtRYIb"
    },
    {
      "cell_type": "code",
      "execution_count": 38,
      "id": "b1e4a90c",
      "metadata": {
        "id": "b1e4a90c"
      },
      "outputs": [],
      "source": [
        "h = LinearRegression()\n",
        "h.fit(X_poly, y);"
      ]
    },
    {
      "cell_type": "markdown",
      "source": [
        "Quais foram os pesos aprendidos? `h.intercept_` contém o valor de $w_0$:"
      ],
      "metadata": {
        "id": "bJJE0r5ERkd_"
      },
      "id": "bJJE0r5ERkd_"
    },
    {
      "cell_type": "code",
      "source": [
        "h.intercept_"
      ],
      "metadata": {
        "id": "VAuiJ4FAf__Q",
        "colab": {
          "base_uri": "https://localhost:8080/"
        },
        "outputId": "87af6fc9-9115-4e3e-a01a-1a703a741edc"
      },
      "id": "VAuiJ4FAf__Q",
      "execution_count": 39,
      "outputs": [
        {
          "output_type": "execute_result",
          "data": {
            "text/plain": [
              "np.float64(2.698258853009664)"
            ]
          },
          "metadata": {},
          "execution_count": 39
        }
      ]
    },
    {
      "cell_type": "markdown",
      "source": [
        "E `h.coef_` é um vetor que contém os valores dos outros pesos (isto é, $w_1$ e $w_2$)."
      ],
      "metadata": {
        "id": "0Gr71RazRqc_"
      },
      "id": "0Gr71RazRqc_"
    },
    {
      "cell_type": "code",
      "source": [
        "h.coef_"
      ],
      "metadata": {
        "id": "j1l1oF8TgAJY",
        "colab": {
          "base_uri": "https://localhost:8080/"
        },
        "outputId": "b87d0617-6299-4536-fe67-d8641d188b16"
      },
      "id": "j1l1oF8TgAJY",
      "execution_count": 40,
      "outputs": [
        {
          "output_type": "execute_result",
          "data": {
            "text/plain": [
              "array([ 4.16399345, -0.68206106])"
            ]
          },
          "metadata": {},
          "execution_count": 40
        }
      ]
    },
    {
      "cell_type": "markdown",
      "source": [
        "Vamos aplicar o modelo nos dados de treinamento e depois plotar a curva do modelo?"
      ],
      "metadata": {
        "id": "X0DXUwSgRxhK"
      },
      "id": "X0DXUwSgRxhK"
    },
    {
      "cell_type": "code",
      "source": [
        "ypred = h.predict(X_poly)"
      ],
      "metadata": {
        "id": "wbEsUm70gASB"
      },
      "id": "wbEsUm70gASB",
      "execution_count": 41,
      "outputs": []
    },
    {
      "cell_type": "code",
      "source": [
        "plt.figure()\n",
        "plt.plot(x100, f(x100), 'g', label='f(x)');\n",
        "plt.plot(x, y, '.r', label='yi');\n",
        "plt.plot(x, ypred, 'purple', label='Sklearn Polynomial Regression (Degree 2)');\n",
        "plt.legend();\n",
        "plt.title('Sklearn Polynomial Regression Model')\n",
        "plt.show()"
      ],
      "metadata": {
        "id": "alYhkwh7f8td",
        "colab": {
          "base_uri": "https://localhost:8080/",
          "height": 472
        },
        "outputId": "f48e833a-39de-439f-e158-72bf2e83c2c5"
      },
      "id": "alYhkwh7f8td",
      "execution_count": 42,
      "outputs": [
        {
          "output_type": "display_data",
          "data": {
            "text/plain": [
              "<Figure size 640x480 with 1 Axes>"
            ],
            "image/png": "[encoded data removed]"
          },
          "metadata": {}
        }
      ]
    },
    {
      "cell_type": "markdown",
      "source": [
        "## Ainda mais atributos\n",
        "\n",
        "Vamos repetir os mesmos passos, mas agora para um modelo de grau 4\n",
        "\n",
        "$$h(x) = w_0 + w_1x + w_2x^2 + w_3x^3 + w_4x^4$$\n",
        "\n",
        "Primeiro, os atributos polinomiais:"
      ],
      "metadata": {
        "id": "33tIdvxFR1Mn"
      },
      "id": "33tIdvxFR1Mn"
    },
    {
      "cell_type": "code",
      "source": [
        "poly_features = PolynomialFeatures(degree=4, include_bias=False)\n",
        "X_poly = poly_features.fit_transform(X)"
      ],
      "metadata": {
        "id": "8VddHS9TzQ5J"
      },
      "id": "8VddHS9TzQ5J",
      "execution_count": 43,
      "outputs": []
    },
    {
      "cell_type": "markdown",
      "source": [
        "Agora, o treinamento do modelo:"
      ],
      "metadata": {
        "id": "ePjsLoc0SBep"
      },
      "id": "ePjsLoc0SBep"
    },
    {
      "cell_type": "code",
      "source": [
        "h = LinearRegression()\n",
        "\n",
        "h.fit(X_poly, y)\n",
        "ypred = h.predict(X_poly)"
      ],
      "metadata": {
        "id": "rZbZuTenSClP"
      },
      "id": "rZbZuTenSClP",
      "execution_count": 44,
      "outputs": []
    },
    {
      "cell_type": "markdown",
      "source": [
        "Quais são os pesos?"
      ],
      "metadata": {
        "id": "qS3n0KvuSHHx"
      },
      "id": "qS3n0KvuSHHx"
    },
    {
      "cell_type": "code",
      "source": [
        "h.intercept_"
      ],
      "metadata": {
        "colab": {
          "base_uri": "https://localhost:8080/"
        },
        "id": "inGiIhQiSJA2",
        "outputId": "ed4b7007-c0db-4c06-e658-1c1156b46261"
      },
      "id": "inGiIhQiSJA2",
      "execution_count": 45,
      "outputs": [
        {
          "output_type": "execute_result",
          "data": {
            "text/plain": [
              "np.float64(2.080759800002646)"
            ]
          },
          "metadata": {},
          "execution_count": 45
        }
      ]
    },
    {
      "cell_type": "code",
      "source": [
        "h.coef_"
      ],
      "metadata": {
        "colab": {
          "base_uri": "https://localhost:8080/"
        },
        "id": "KfaUyxCPSKaJ",
        "outputId": "44e1efff-b851-4c75-88c4-f986b03c971f"
      },
      "id": "KfaUyxCPSKaJ",
      "execution_count": 46,
      "outputs": [
        {
          "output_type": "execute_result",
          "data": {
            "text/plain": [
              "array([ 3.40258644,  2.10514213, -1.3089807 ,  0.16068919])"
            ]
          },
          "metadata": {},
          "execution_count": 46
        }
      ]
    },
    {
      "cell_type": "markdown",
      "source": [
        "Vamos plotar os dados. Mas, para que a curva do modelo fique mais suave, vams gerar uma sequência com 100 pontos entre 0 e 5 ao invés de testarmos o modelo apenas nos 11 exemplos do conjunto de treinamento."
      ],
      "metadata": {
        "id": "-wE8t45HSLfu"
      },
      "id": "-wE8t45HSLfu"
    },
    {
      "cell_type": "code",
      "source": [
        "X_teste = x100.reshape(-1, 1)\n",
        "X_teste_poly = poly_features.fit_transform(X_teste)\n",
        "y_teste = h.predict(X_teste_poly)"
      ],
      "metadata": {
        "id": "HZuPTrwr0Bx8"
      },
      "id": "HZuPTrwr0Bx8",
      "execution_count": 47,
      "outputs": []
    },
    {
      "cell_type": "code",
      "source": [
        "plt.figure()\n",
        "plt.plot(x100, f(x100), 'g', label='f(x)');\n",
        "plt.plot(x, y, '.r', label='yi');\n",
        "plt.plot(x100, y_teste, 'purple', label='Sklearn Polynomial Regression (Degree 4)');\n",
        "plt.legend();\n",
        "plt.title('Sklearn Polynomial Regression Model')\n",
        "plt.show()"
      ],
      "metadata": {
        "colab": {
          "base_uri": "https://localhost:8080/",
          "height": 472
        },
        "id": "uor7CK-kz0lg",
        "outputId": "eed82881-54ad-463f-d115-625c13027632"
      },
      "id": "uor7CK-kz0lg",
      "execution_count": 48,
      "outputs": [
        {
          "output_type": "display_data",
          "data": {
            "text/plain": [
              "<Figure size 640x480 with 1 Axes>"
            ],
            "image/png": "[encoded data removed]"
          },
          "metadata": {}
        }
      ]
    }
  ],
  "metadata": {
    "kernelspec": {
      "display_name": "Python 3 (ipykernel)",
      "language": "python",
      "name": "python3"
    },
    "language_info": {
      "codemirror_mode": {
        "name": "ipython",
        "version": 3
      },
      "file_extension": ".py",
      "mimetype": "text/x-python",
      "name": "python",
      "nbconvert_exporter": "python",
      "pygments_lexer": "ipython3",
      "version": "3.11.2"
    },
    "colab": {
      "provenance": []
    }
  },
  "nbformat": 4,
  "nbformat_minor": 5
}