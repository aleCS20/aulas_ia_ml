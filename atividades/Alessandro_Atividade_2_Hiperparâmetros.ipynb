{
  "nbformat": 4,
  "nbformat_minor": 0,
  "metadata": {
    "colab": {
      "provenance": []
    },
    "kernelspec": {
      "name": "python3",
      "display_name": "Python 3"
    },
    "language_info": {
      "name": "python"
    }
  },
  "cells": [
    {
      "cell_type": "markdown",
      "source": [
        "# Carregando os dados"
      ],
      "metadata": {
        "id": "rxvdcUSzWFop"
      }
    },
    {
      "cell_type": "markdown",
      "source": [
        "Carregue a base de dados Iris usando a função `load_iris`."
      ],
      "metadata": {
        "id": "MgIfBLCmWKwP"
      }
    },
    {
      "cell_type": "code",
      "source": [
        "from sklearn.datasets import load_iris"
      ],
      "metadata": {
        "id": "Ze4pyvUdWOQk"
      },
      "execution_count": null,
      "outputs": []
    },
    {
      "cell_type": "code",
      "source": [
        "iris ="
      ],
      "metadata": {
        "id": "f8mE64DQWbzO"
      },
      "execution_count": null,
      "outputs": []
    },
    {
      "cell_type": "code",
      "source": [],
      "metadata": {
        "id": "5G_MxMjYWTC9"
      },
      "execution_count": null,
      "outputs": []
    },
    {
      "cell_type": "code",
      "source": [],
      "metadata": {
        "id": "bj5mZR6Be5mW"
      },
      "execution_count": null,
      "outputs": []
    },
    {
      "cell_type": "code",
      "source": [],
      "metadata": {
        "id": "KaMrupR0WUMM"
      },
      "execution_count": null,
      "outputs": []
    },
    {
      "cell_type": "markdown",
      "source": [
        "A propriedade `iris.data` deve conter uma matriz com 150 linhas e 4 colunas. São os 150 exemplos do conjunto de dados.\n",
        "\n",
        "A propriedade `iris.target` deve conter um vetor com 150 elementos. São as classes dos exemplos.\n",
        "\n",
        "Copie apenas as duas primeiras colunas dos dados para uma matriz `X` usando fatiamento e copie todos os alvos para um vetor `y`."
      ],
      "metadata": {
        "id": "05g7EZCsWVWY"
      }
    },
    {
      "cell_type": "code",
      "source": [
        "X =\n",
        "y ="
      ],
      "metadata": {
        "id": "oIwf1NexWumg"
      },
      "execution_count": null,
      "outputs": []
    },
    {
      "cell_type": "code",
      "source": [],
      "metadata": {
        "id": "uMGg3sJMWyd4"
      },
      "execution_count": null,
      "outputs": []
    },
    {
      "cell_type": "code",
      "source": [],
      "metadata": {
        "id": "2xh8-4s8WzAs"
      },
      "execution_count": null,
      "outputs": []
    },
    {
      "cell_type": "code",
      "source": [],
      "metadata": {
        "id": "PjQ3vMbgWzJ6"
      },
      "execution_count": null,
      "outputs": []
    },
    {
      "cell_type": "markdown",
      "source": [
        "Execute a célula abaixo para verificar se os dados estão de acordo com o esperado."
      ],
      "metadata": {
        "id": "zSiwM9_KWzr-"
      }
    },
    {
      "cell_type": "code",
      "source": [
        "import numpy as np\n",
        "\n",
        "if 'X' not in globals():\n",
        "  print('A variável X não parece ter sido declarada. Você fez a separação solicitada?')\n",
        "elif not isinstance(X, np.ndarray):\n",
        "  print('A variável X não parecer ser uma matriz de características.')\n",
        "elif X.shape != (150, 2):\n",
        "  print('O tamanho da matriz X parece errado. Ela deve ter 150 linhas e 2 colunas')\n",
        "elif np.array_equal(X, np.take(getattr(load_iris(), 'data'), [0, 1], axis=1)):\n",
        "  print('Tudo parece certo!')\n",
        "else:\n",
        "  print('Os dados da matriz X parecem incorretos. Tem certeza que você separou as duas primeiras colunas?')"
      ],
      "metadata": {
        "colab": {
          "base_uri": "https://localhost:8080/"
        },
        "id": "_zHMjMN2XUeW",
        "outputId": "a2e715d4-cd90-4cad-a75f-bbf02ef78af5"
      },
      "execution_count": null,
      "outputs": [
        {
          "output_type": "stream",
          "name": "stdout",
          "text": [
            "Tudo parece certo!\n"
          ]
        }
      ]
    },
    {
      "cell_type": "markdown",
      "source": [
        "Use a Gemini a faça uma query para plotar os dados da matriz `X` em um gráfico de dispersão (scatter plot). Use o conteúdo do vetor `y` para colorir os pontos."
      ],
      "metadata": {
        "id": "iMcdnDbMYb42"
      }
    },
    {
      "cell_type": "code",
      "source": [],
      "metadata": {
        "id": "psJWrl3mYmVT"
      },
      "execution_count": null,
      "outputs": []
    },
    {
      "cell_type": "markdown",
      "source": [
        "Esse é o conjunto com o qual vamos trabalhar!"
      ],
      "metadata": {
        "id": "KBIz55UHYnHm"
      }
    },
    {
      "cell_type": "markdown",
      "source": [
        "# Árvore de Decisão"
      ],
      "metadata": {
        "id": "MnMZ3pwxYpUe"
      }
    },
    {
      "cell_type": "markdown",
      "source": [
        "Primeiro, faça o treino da árvore de decisão."
      ],
      "metadata": {
        "id": "UJDyib4oYta2"
      }
    },
    {
      "cell_type": "code",
      "source": [
        "from sklearn.tree import DecisionTreeClassifier"
      ],
      "metadata": {
        "id": "fJPn9EvBYvwO"
      },
      "execution_count": null,
      "outputs": []
    },
    {
      "cell_type": "code",
      "source": [
        "clf ="
      ],
      "metadata": {
        "id": "0UgrE6dgYxi2"
      },
      "execution_count": null,
      "outputs": []
    },
    {
      "cell_type": "code",
      "source": [],
      "metadata": {
        "id": "I1heQJqNYyd2"
      },
      "execution_count": null,
      "outputs": []
    },
    {
      "cell_type": "code",
      "source": [],
      "metadata": {
        "id": "_1n5ssg0Yzi5"
      },
      "execution_count": null,
      "outputs": []
    },
    {
      "cell_type": "code",
      "source": [],
      "metadata": {
        "id": "cXhRrWU5Yzpj"
      },
      "execution_count": null,
      "outputs": []
    },
    {
      "cell_type": "markdown",
      "source": [
        "Como um teste, verifique qual seria a saída do modelo treinado para o exemplo `[5, 2.5]`. O resultado deve ser `1`."
      ],
      "metadata": {
        "id": "fSFrlqgNY3dI"
      }
    },
    {
      "cell_type": "code",
      "source": [],
      "metadata": {
        "id": "_9O1_Fj6ZOLM"
      },
      "execution_count": null,
      "outputs": []
    },
    {
      "cell_type": "code",
      "source": [],
      "metadata": {
        "id": "lcMfdkZ4ZPHT"
      },
      "execution_count": null,
      "outputs": []
    },
    {
      "cell_type": "markdown",
      "source": [
        "Agora teste o modelo em todo o conjunto de treinamento. Depois calcule a acurácia. O resultado deverá ser 92,6% ou 0,926."
      ],
      "metadata": {
        "id": "AjtnlhUjZPQw"
      }
    },
    {
      "cell_type": "code",
      "source": [
        "from sklearn.metrics import accuracy_score"
      ],
      "metadata": {
        "id": "8pYy5Qw-ZUy9"
      },
      "execution_count": null,
      "outputs": []
    },
    {
      "cell_type": "code",
      "source": [],
      "metadata": {
        "id": "cEtnimH5ZbMV"
      },
      "execution_count": null,
      "outputs": []
    },
    {
      "cell_type": "code",
      "source": [],
      "metadata": {
        "id": "CNFDPiAse8PJ"
      },
      "execution_count": null,
      "outputs": []
    },
    {
      "cell_type": "code",
      "source": [],
      "metadata": {
        "id": "0AcKBVsKZmpp"
      },
      "execution_count": null,
      "outputs": []
    },
    {
      "cell_type": "markdown",
      "source": [
        "Faça um prompt para que a Gemini desenhe o espaço de decisão do classificador clf mostrando como todos os pontos do conjunto (X, y) são classificados.\n",
        "\n",
        "Analise o código. Verifique que a Gemini está gerando um vetor de coordenadas com a função `np.meshgrid`. Isso é um conjunto de exemplos artificiais que vai cobrir todo a parte do espaço de decisão que estamos desenhando. É assim que o `sklearn` consegue \"pintar\" a superfície com as cores das classes que serão resultados da árvore.\n",
        "\n",
        "Verifique também que apenas o método `predict` está sendo usado e que o modelo não está sendo retreinado."
      ],
      "metadata": {
        "id": "mqu4cZiiZn6W"
      }
    },
    {
      "cell_type": "code",
      "source": [],
      "metadata": {
        "id": "wCPlVdfJe9RI"
      },
      "execution_count": null,
      "outputs": []
    },
    {
      "cell_type": "code",
      "source": [],
      "metadata": {
        "id": "TQtblIMTa5Ja"
      },
      "execution_count": null,
      "outputs": []
    },
    {
      "cell_type": "code",
      "source": [],
      "metadata": {
        "id": "2D_Mu_vCa52Q"
      },
      "execution_count": null,
      "outputs": []
    },
    {
      "cell_type": "markdown",
      "source": [
        "## Profundidade máxima da árvore."
      ],
      "metadata": {
        "id": "oEWNEQS6a5-K"
      }
    },
    {
      "cell_type": "markdown",
      "source": [
        "Vamos começar explorando o hiperparâmetro `max_depth`. Esse hiperparâmetro limita a profundidade máxima da árvore e, por conseguinte, reduz a quantidade de cortes que ela faz no espaço de decisão.\n",
        "\n",
        "Para isso, você deverá instanciar novamente o classificador e especificar `max_depth=5` no construtor."
      ],
      "metadata": {
        "id": "8ZeRv-8ra73A"
      }
    },
    {
      "cell_type": "code",
      "source": [],
      "metadata": {
        "id": "DdedWd_PbdRj"
      },
      "execution_count": null,
      "outputs": []
    },
    {
      "cell_type": "code",
      "source": [],
      "metadata": {
        "id": "ONFn8z97bdjd"
      },
      "execution_count": null,
      "outputs": []
    },
    {
      "cell_type": "code",
      "source": [],
      "metadata": {
        "id": "_V-xVKzFe-3Q"
      },
      "execution_count": null,
      "outputs": []
    },
    {
      "cell_type": "markdown",
      "source": [
        "Teste o modelo no conjunto de treino. A acurácia devrá ter reduzido um pouco (eu obtite 84,67% quando elaborei o notebook)."
      ],
      "metadata": {
        "id": "ElUQSDuBbpHW"
      }
    },
    {
      "cell_type": "code",
      "source": [],
      "metadata": {
        "id": "CH2Rp3vtb06J"
      },
      "execution_count": null,
      "outputs": []
    },
    {
      "cell_type": "code",
      "source": [],
      "metadata": {
        "id": "WRwFaY_Qb1DR"
      },
      "execution_count": null,
      "outputs": []
    },
    {
      "cell_type": "code",
      "source": [],
      "metadata": {
        "id": "N_3XV7ttb1MW"
      },
      "execution_count": null,
      "outputs": []
    },
    {
      "cell_type": "markdown",
      "source": [
        "Agora desenhe o espaço de decisão para esse classificador. Veja a diferença do anterior. Note como o espaço de decisão ficou mais simples. Isso é porque, ao limitar a profundidade da árvore, o modelo resultante fica mais simples! A variância diminuiu."
      ],
      "metadata": {
        "id": "53v0hjCfb1_R"
      }
    },
    {
      "cell_type": "code",
      "source": [],
      "metadata": {
        "id": "rIzUFZ5xcFFa"
      },
      "execution_count": null,
      "outputs": []
    },
    {
      "cell_type": "code",
      "source": [],
      "metadata": {
        "id": "qivr7WyEcFOf"
      },
      "execution_count": null,
      "outputs": []
    },
    {
      "cell_type": "code",
      "source": [],
      "metadata": {
        "id": "pmk8-vQGcFXh"
      },
      "execution_count": null,
      "outputs": []
    },
    {
      "cell_type": "markdown",
      "source": [
        "Agora faça alguns testes. Experimente árvores com profundidade máxima ainda menor que 5. Veja como a acurácia do conjunto de treinamento cai e como o espaço de decisão fica cada vez mais simples."
      ],
      "metadata": {
        "id": "j490Q5u5cFfm"
      }
    },
    {
      "cell_type": "code",
      "source": [],
      "metadata": {
        "id": "UjQzV82QcQ_u"
      },
      "execution_count": null,
      "outputs": []
    },
    {
      "cell_type": "code",
      "source": [],
      "metadata": {
        "id": "cUH-xRvwcRbx"
      },
      "execution_count": null,
      "outputs": []
    },
    {
      "cell_type": "code",
      "source": [],
      "metadata": {
        "id": "XKKu77-5cRlT"
      },
      "execution_count": null,
      "outputs": []
    },
    {
      "cell_type": "code",
      "source": [],
      "metadata": {
        "id": "WVcdFVLbcRsF"
      },
      "execution_count": null,
      "outputs": []
    },
    {
      "cell_type": "code",
      "source": [],
      "metadata": {
        "id": "LcS3ZNn7cRyY"
      },
      "execution_count": null,
      "outputs": []
    },
    {
      "cell_type": "code",
      "source": [],
      "metadata": {
        "id": "GgF7nesycR5B"
      },
      "execution_count": null,
      "outputs": []
    },
    {
      "cell_type": "code",
      "source": [],
      "metadata": {
        "id": "bC8YUkQrcR_x"
      },
      "execution_count": null,
      "outputs": []
    },
    {
      "cell_type": "code",
      "source": [],
      "metadata": {
        "id": "V0Xi1vOdcSE5"
      },
      "execution_count": null,
      "outputs": []
    },
    {
      "cell_type": "markdown",
      "source": [
        "## Outros hiperparâmetros da árvore\n",
        "\n",
        "Repita o mesmo procedimento explorando outros hiperparâmetros da árvore mencionados na apresentação de slides \"08-Viés e Variância dos modelos rasos\"."
      ],
      "metadata": {
        "id": "ciSfgbGgcSKl"
      }
    },
    {
      "cell_type": "code",
      "source": [],
      "metadata": {
        "id": "jhlr3VcMch5D"
      },
      "execution_count": null,
      "outputs": []
    },
    {
      "cell_type": "code",
      "source": [],
      "metadata": {
        "id": "TPKHWI--ciJ0"
      },
      "execution_count": null,
      "outputs": []
    },
    {
      "cell_type": "code",
      "source": [],
      "metadata": {
        "id": "ITaJaf9EciSW"
      },
      "execution_count": null,
      "outputs": []
    },
    {
      "cell_type": "code",
      "source": [],
      "metadata": {
        "id": "0ziGrMRecia9"
      },
      "execution_count": null,
      "outputs": []
    },
    {
      "cell_type": "code",
      "source": [],
      "metadata": {
        "id": "alzdcitkcijV"
      },
      "execution_count": null,
      "outputs": []
    },
    {
      "cell_type": "code",
      "source": [],
      "metadata": {
        "id": "ZGal9mxwcisE"
      },
      "execution_count": null,
      "outputs": []
    },
    {
      "cell_type": "code",
      "source": [],
      "metadata": {
        "id": "AybMtAhrci0m"
      },
      "execution_count": null,
      "outputs": []
    },
    {
      "cell_type": "code",
      "source": [],
      "metadata": {
        "id": "z7NJB6ycci9O"
      },
      "execution_count": null,
      "outputs": []
    },
    {
      "cell_type": "code",
      "source": [],
      "metadata": {
        "id": "uJJLbzc9cjF1"
      },
      "execution_count": null,
      "outputs": []
    },
    {
      "cell_type": "code",
      "source": [],
      "metadata": {
        "id": "4SSvkM43cjN9"
      },
      "execution_count": null,
      "outputs": []
    },
    {
      "cell_type": "markdown",
      "source": [
        "# Brincando com o SVM"
      ],
      "metadata": {
        "id": "BxdPKyz9cjjc"
      }
    },
    {
      "cell_type": "markdown",
      "source": [
        "Agora vamos fazer o mesmo procedimento para o SVM.\n",
        "\n",
        "Não é necessário carregar os dados. Continue usando o conjunto `(X, y)` de antes."
      ],
      "metadata": {
        "id": "AqD4Dj8Dclrp"
      }
    },
    {
      "cell_type": "code",
      "source": [
        "# Importa o Support Vector Classifier\n",
        "from sklearn.svm import SVC"
      ],
      "metadata": {
        "id": "t6VUBi7JcxwO"
      },
      "execution_count": null,
      "outputs": []
    },
    {
      "cell_type": "markdown",
      "source": [
        "Instancie um modelo `SVC` usando o seguinte conjunto de hiperparâmetros: `kernel='poly', degree=2, C=1`.\n",
        "\n",
        "Depois teste o modelo no próprio conjunto de treinamento. A acurácia deverá ser próxima de 82%.\n",
        "\n"
      ],
      "metadata": {
        "id": "hukVVG4Zc1r8"
      }
    },
    {
      "cell_type": "code",
      "source": [
        "clf = SVC(...)  # complete aqui"
      ],
      "metadata": {
        "id": "mz1xvNZteFjI"
      },
      "execution_count": null,
      "outputs": []
    },
    {
      "cell_type": "code",
      "source": [],
      "metadata": {
        "id": "dOGHkhW_eCJg"
      },
      "execution_count": null,
      "outputs": []
    },
    {
      "cell_type": "code",
      "source": [],
      "metadata": {
        "id": "rvwumdI1fCOa"
      },
      "execution_count": null,
      "outputs": []
    },
    {
      "cell_type": "code",
      "source": [],
      "metadata": {
        "id": "z1GhmZiOfCVz"
      },
      "execution_count": null,
      "outputs": []
    },
    {
      "cell_type": "markdown",
      "source": [
        "Agora faça um prompt para gerar o espaço de decisão do modelo SVM. O resultado deverá mais ou menos parecido com a figura a seguir:\n",
        "\n",
        "![image.png](data:image/png;base64,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)\n",
        "\n",
        "É a mesma ideia do que fizemos com a árvore de decisão, mas agora, ao invés de mostrar os cortes longitudinais, nós estamos vendo como os hiperplanos de separação cortam o espaço de maneira não linear."
      ],
      "metadata": {
        "id": "jyXmqhkeeCS8"
      }
    },
    {
      "cell_type": "code",
      "source": [],
      "metadata": {
        "id": "R0I9yoBReCac"
      },
      "execution_count": null,
      "outputs": []
    },
    {
      "cell_type": "code",
      "source": [],
      "metadata": {
        "id": "vDeBzH7velJC"
      },
      "execution_count": null,
      "outputs": []
    },
    {
      "cell_type": "code",
      "source": [],
      "metadata": {
        "id": "Mkji6DZtelTq"
      },
      "execution_count": null,
      "outputs": []
    },
    {
      "cell_type": "markdown",
      "source": [
        "Agora teste diferentes valores do hiperparâmetro `C` e gere os gráficos. Veja como a variância do modelo aumenta conforme o valor de `C` também aumenta!"
      ],
      "metadata": {
        "id": "DgdN6xAod0A3"
      }
    },
    {
      "cell_type": "code",
      "source": [],
      "metadata": {
        "id": "iC8VsGv4euYq"
      },
      "execution_count": null,
      "outputs": []
    },
    {
      "cell_type": "code",
      "source": [],
      "metadata": {
        "id": "xqG7bRAAeufr"
      },
      "execution_count": null,
      "outputs": []
    },
    {
      "cell_type": "code",
      "source": [],
      "metadata": {
        "id": "9EfyxtJ8euo_"
      },
      "execution_count": null,
      "outputs": []
    },
    {
      "cell_type": "code",
      "source": [],
      "metadata": {
        "id": "LTxuz0o-euvB"
      },
      "execution_count": null,
      "outputs": []
    },
    {
      "cell_type": "code",
      "source": [],
      "metadata": {
        "id": "CkVfufnoeu1K"
      },
      "execution_count": null,
      "outputs": []
    },
    {
      "cell_type": "code",
      "source": [],
      "metadata": {
        "id": "0v3ipYFmeu6i"
      },
      "execution_count": null,
      "outputs": []
    },
    {
      "cell_type": "code",
      "source": [],
      "metadata": {
        "id": "RjLnCBkFeu_8"
      },
      "execution_count": null,
      "outputs": []
    },
    {
      "cell_type": "code",
      "source": [],
      "metadata": {
        "id": "HMi8pBexevEx"
      },
      "execution_count": null,
      "outputs": []
    },
    {
      "cell_type": "code",
      "source": [],
      "metadata": {
        "id": "KOpbJ-i5evJU"
      },
      "execution_count": null,
      "outputs": []
    },
    {
      "cell_type": "code",
      "source": [],
      "metadata": {
        "id": "aeQ8oSI2evNq"
      },
      "execution_count": null,
      "outputs": []
    },
    {
      "cell_type": "code",
      "source": [],
      "metadata": {
        "id": "eozSa2LxevSO"
      },
      "execution_count": null,
      "outputs": []
    },
    {
      "cell_type": "markdown",
      "source": [
        "Agora altere o hiperparâmetro `degree`. Aumente o grau do polinômio e veja como isso afeta o espaço de decisão."
      ],
      "metadata": {
        "id": "SirVAQlvevWG"
      }
    },
    {
      "cell_type": "code",
      "source": [],
      "metadata": {
        "id": "a7SVjV1oe176"
      },
      "execution_count": null,
      "outputs": []
    },
    {
      "cell_type": "code",
      "source": [],
      "metadata": {
        "id": "E0cg2lQde2By"
      },
      "execution_count": null,
      "outputs": []
    },
    {
      "cell_type": "code",
      "source": [],
      "metadata": {
        "id": "DXKoFCiQe2HA"
      },
      "execution_count": null,
      "outputs": []
    },
    {
      "cell_type": "code",
      "source": [],
      "metadata": {
        "id": "qs4mm9uie2SQ"
      },
      "execution_count": null,
      "outputs": []
    },
    {
      "cell_type": "code",
      "source": [],
      "metadata": {
        "id": "ZJnlraY1fNIB"
      },
      "execution_count": null,
      "outputs": []
    },
    {
      "cell_type": "code",
      "source": [],
      "metadata": {
        "id": "rR7YaAh8fNOS"
      },
      "execution_count": null,
      "outputs": []
    },
    {
      "cell_type": "code",
      "source": [],
      "metadata": {
        "id": "8hC3cGMnfNWB"
      },
      "execution_count": null,
      "outputs": []
    },
    {
      "cell_type": "code",
      "source": [],
      "metadata": {
        "id": "BPvxtxECfNeu"
      },
      "execution_count": null,
      "outputs": []
    },
    {
      "cell_type": "markdown",
      "source": [
        "# Bônus: Naive Bayes\n",
        "\n",
        "Agora, que tal fazer o mesmo com o Naive Bayes? Veja como o atributo `var_smoothing` afeta a distribuição gaussiana.\n"
      ],
      "metadata": {
        "id": "f19hmU_XfGFP"
      }
    }
  ]
}